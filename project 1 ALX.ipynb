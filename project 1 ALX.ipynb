{
 "cells": [
  {
   "cell_type": "markdown",
   "id": "3e220009",
   "metadata": {},
   "source": [
    "\n",
    "\n",
    "# Project: Investigate a Dataset - [No Show Appointments]\n",
    "\n",
    "## Table of Contents\n",
    "<ul>\n",
    "<li><a href=\"#intro\">Introduction</a></li>\n",
    "<li><a href=\"#wrangling\">Data Wrangling</a></li>\n",
    "<li><a href=\"#eda\">Exploratory Data Analysis</a></li>\n",
    "<li><a href=\"#conclusions\">Conclusions</a></li>\n",
    "</ul>"
   ]
  },
  {
   "cell_type": "markdown",
   "id": "7744f4b0",
   "metadata": {},
   "source": [
    "<a id='intro'></a>\n",
    "## Introduction\n",
    "\n",
    "### Dataset Description \n",
    "\n",
    "> Thousands of medical appointments and its associated variables (characteristics), the dataset has information about each patient and his appointment and more importantly did the patient come or not, we will discover from this dataset if a certain characteristics pre determine if the patient will come to the appointment or not \n",
    "\n",
    "\n",
    "### Question(s) for Analysis\n",
    "\n",
    "> **Why** would a patient schedule an appointment and miss it ? \n",
    "\n",
    "> **Did** the patient had a liabilty that pervented him from coming ? \n",
    "\n",
    "> **What** age group miss the appointment most ? \n"
   ]
  },
  {
   "cell_type": "code",
   "execution_count": 1,
   "id": "61438c75",
   "metadata": {},
   "outputs": [],
   "source": [
    "# importing important libararies \n",
    "\n",
    "import numpy as np\n",
    "import pandas as pd\n",
    "import matplotlib.pyplot as plt\n",
    "import seaborn as sns\n",
    "import random"
   ]
  },
  {
   "cell_type": "code",
   "execution_count": 2,
   "id": "122b0d69",
   "metadata": {},
   "outputs": [],
   "source": [
    "#functions to plot attributes and to make our code DRY\n",
    "def plot_relations(list_of_attributes,data):\n",
    "    rows= len(list_of_attributes)\n",
    "    cols=2\n",
    "    appointment_status=['missed','attended']\n",
    "    #setting up plot grid and colors\n",
    "    fig, axes = plt.subplots(nrows=rows, ncols=cols, figsize=(15, 20))\n",
    "    colors =['maroon','green','orangered','blue','aquamarine','goldenrod','indigo']\n",
    "    \n",
    "    #adjusting plot margins\n",
    "    plt.subplots_adjust(left=0.1,bottom=0.1, right=0.9, top=0.9, wspace=0.4, hspace=0.4) \n",
    "    \n",
    "    #loop to plot graphs in a grid\n",
    "    #plot over the rows \n",
    "    for i in range(rows) :\n",
    "        #plot over the columns\n",
    "        color_for_row=random.choice(colors)\n",
    "        for j in range(cols):\n",
    "            axes[i,j].hist(list_of_attributes[i],data = data[j],color=color_for_row)\n",
    "            axes[i,j].title.set_text('%s for people who %s appointment'%(list_of_attributes[i],appointment_status[j]))\n",
    "            axes[i,j].set_ylabel('COUNT')\n",
    "            axes[i,j].set_xlabel('%s'%(list_of_attributes[i]))\n"
   ]
  },
  {
   "cell_type": "markdown",
   "id": "9e193153",
   "metadata": {},
   "source": [
    "<a id='wrangling'></a>\n",
    "## Data Wrangling\n",
    "\n",
    "> **The** next step after defining our questions would be **Data Wrangling**, in which we will perform three main steps, first we will load the data to our workspace, then we will proceed to assing the data and making sure that the quality and structure of it is right, finally we will clean our data as we enter the explore phase\n"
   ]
  },
  {
   "cell_type": "code",
   "execution_count": 3,
   "id": "de336622",
   "metadata": {},
   "outputs": [
    {
     "data": {
      "text/html": [
       "<div>\n",
       "<style scoped>\n",
       "    .dataframe tbody tr th:only-of-type {\n",
       "        vertical-align: middle;\n",
       "    }\n",
       "\n",
       "    .dataframe tbody tr th {\n",
       "        vertical-align: top;\n",
       "    }\n",
       "\n",
       "    .dataframe thead th {\n",
       "        text-align: right;\n",
       "    }\n",
       "</style>\n",
       "<table border=\"1\" class=\"dataframe\">\n",
       "  <thead>\n",
       "    <tr style=\"text-align: right;\">\n",
       "      <th></th>\n",
       "      <th>PatientId</th>\n",
       "      <th>AppointmentID</th>\n",
       "      <th>Gender</th>\n",
       "      <th>ScheduledDay</th>\n",
       "      <th>AppointmentDay</th>\n",
       "      <th>Age</th>\n",
       "      <th>Neighbourhood</th>\n",
       "      <th>Scholarship</th>\n",
       "      <th>Hipertension</th>\n",
       "      <th>Diabetes</th>\n",
       "      <th>Alcoholism</th>\n",
       "      <th>Handcap</th>\n",
       "      <th>SMS_received</th>\n",
       "      <th>No-show</th>\n",
       "    </tr>\n",
       "  </thead>\n",
       "  <tbody>\n",
       "    <tr>\n",
       "      <th>0</th>\n",
       "      <td>2.987250e+13</td>\n",
       "      <td>5642903</td>\n",
       "      <td>F</td>\n",
       "      <td>2016-04-29T18:38:08Z</td>\n",
       "      <td>2016-04-29T00:00:00Z</td>\n",
       "      <td>62</td>\n",
       "      <td>JARDIM DA PENHA</td>\n",
       "      <td>0</td>\n",
       "      <td>1</td>\n",
       "      <td>0</td>\n",
       "      <td>0</td>\n",
       "      <td>0</td>\n",
       "      <td>0</td>\n",
       "      <td>No</td>\n",
       "    </tr>\n",
       "    <tr>\n",
       "      <th>1</th>\n",
       "      <td>5.589980e+14</td>\n",
       "      <td>5642503</td>\n",
       "      <td>M</td>\n",
       "      <td>2016-04-29T16:08:27Z</td>\n",
       "      <td>2016-04-29T00:00:00Z</td>\n",
       "      <td>56</td>\n",
       "      <td>JARDIM DA PENHA</td>\n",
       "      <td>0</td>\n",
       "      <td>0</td>\n",
       "      <td>0</td>\n",
       "      <td>0</td>\n",
       "      <td>0</td>\n",
       "      <td>0</td>\n",
       "      <td>No</td>\n",
       "    </tr>\n",
       "    <tr>\n",
       "      <th>2</th>\n",
       "      <td>4.262960e+12</td>\n",
       "      <td>5642549</td>\n",
       "      <td>F</td>\n",
       "      <td>2016-04-29T16:19:04Z</td>\n",
       "      <td>2016-04-29T00:00:00Z</td>\n",
       "      <td>62</td>\n",
       "      <td>MATA DA PRAIA</td>\n",
       "      <td>0</td>\n",
       "      <td>0</td>\n",
       "      <td>0</td>\n",
       "      <td>0</td>\n",
       "      <td>0</td>\n",
       "      <td>0</td>\n",
       "      <td>No</td>\n",
       "    </tr>\n",
       "    <tr>\n",
       "      <th>3</th>\n",
       "      <td>8.679510e+11</td>\n",
       "      <td>5642828</td>\n",
       "      <td>F</td>\n",
       "      <td>2016-04-29T17:29:31Z</td>\n",
       "      <td>2016-04-29T00:00:00Z</td>\n",
       "      <td>8</td>\n",
       "      <td>PONTAL DE CAMBURI</td>\n",
       "      <td>0</td>\n",
       "      <td>0</td>\n",
       "      <td>0</td>\n",
       "      <td>0</td>\n",
       "      <td>0</td>\n",
       "      <td>0</td>\n",
       "      <td>No</td>\n",
       "    </tr>\n",
       "    <tr>\n",
       "      <th>4</th>\n",
       "      <td>8.841190e+12</td>\n",
       "      <td>5642494</td>\n",
       "      <td>F</td>\n",
       "      <td>2016-04-29T16:07:23Z</td>\n",
       "      <td>2016-04-29T00:00:00Z</td>\n",
       "      <td>56</td>\n",
       "      <td>JARDIM DA PENHA</td>\n",
       "      <td>0</td>\n",
       "      <td>1</td>\n",
       "      <td>1</td>\n",
       "      <td>0</td>\n",
       "      <td>0</td>\n",
       "      <td>0</td>\n",
       "      <td>No</td>\n",
       "    </tr>\n",
       "  </tbody>\n",
       "</table>\n",
       "</div>"
      ],
      "text/plain": [
       "      PatientId  AppointmentID Gender          ScheduledDay  \\\n",
       "0  2.987250e+13        5642903      F  2016-04-29T18:38:08Z   \n",
       "1  5.589980e+14        5642503      M  2016-04-29T16:08:27Z   \n",
       "2  4.262960e+12        5642549      F  2016-04-29T16:19:04Z   \n",
       "3  8.679510e+11        5642828      F  2016-04-29T17:29:31Z   \n",
       "4  8.841190e+12        5642494      F  2016-04-29T16:07:23Z   \n",
       "\n",
       "         AppointmentDay  Age      Neighbourhood  Scholarship  Hipertension  \\\n",
       "0  2016-04-29T00:00:00Z   62    JARDIM DA PENHA            0             1   \n",
       "1  2016-04-29T00:00:00Z   56    JARDIM DA PENHA            0             0   \n",
       "2  2016-04-29T00:00:00Z   62      MATA DA PRAIA            0             0   \n",
       "3  2016-04-29T00:00:00Z    8  PONTAL DE CAMBURI            0             0   \n",
       "4  2016-04-29T00:00:00Z   56    JARDIM DA PENHA            0             1   \n",
       "\n",
       "   Diabetes  Alcoholism  Handcap  SMS_received No-show  \n",
       "0         0           0        0             0      No  \n",
       "1         0           0        0             0      No  \n",
       "2         0           0        0             0      No  \n",
       "3         0           0        0             0      No  \n",
       "4         1           0        0             0      No  "
      ]
     },
     "execution_count": 3,
     "metadata": {},
     "output_type": "execute_result"
    }
   ],
   "source": [
    "# Loading data and viewing it\n",
    "appointments = pd.read_csv('noshowappointments.csv')\n",
    "appointments.head()\n"
   ]
  },
  {
   "cell_type": "code",
   "execution_count": 4,
   "id": "c42199cb",
   "metadata": {},
   "outputs": [
    {
     "data": {
      "text/plain": [
       "PatientId         float64\n",
       "AppointmentID       int64\n",
       "Gender             object\n",
       "ScheduledDay       object\n",
       "AppointmentDay     object\n",
       "Age                 int64\n",
       "Neighbourhood      object\n",
       "Scholarship         int64\n",
       "Hipertension        int64\n",
       "Diabetes            int64\n",
       "Alcoholism          int64\n",
       "Handcap             int64\n",
       "SMS_received        int64\n",
       "No-show            object\n",
       "dtype: object"
      ]
     },
     "execution_count": 4,
     "metadata": {},
     "output_type": "execute_result"
    }
   ],
   "source": [
    "#assesing the data quality \n",
    "appointments.dtypes"
   ]
  },
  {
   "cell_type": "markdown",
   "id": "e82a9f98",
   "metadata": {},
   "source": [
    "scheduled day and appointment day are objects and that need to be fixed into date type also No-show need to be boolean\n"
   ]
  },
  {
   "cell_type": "code",
   "execution_count": 5,
   "id": "cb1a0e5c",
   "metadata": {},
   "outputs": [
    {
     "data": {
      "text/plain": [
       "0"
      ]
     },
     "execution_count": 5,
     "metadata": {},
     "output_type": "execute_result"
    }
   ],
   "source": [
    "#checking for inconsisitences \n",
    "appointments.Gender.unique().sum()\n",
    "#only male and female , no incorrect typos\n",
    "appointments.Age.max()\n",
    "#max of 115, doable\n",
    "appointments['No-show'].unique().sum()\n",
    "#only two answers , no incorrect typos\n",
    "appointments.isna().sum()\n",
    "#data has no missing values!\n",
    "appointments.duplicated().sum()\n",
    "#data has no duplicates\n"
   ]
  },
  {
   "cell_type": "markdown",
   "id": "76e28ea3",
   "metadata": {},
   "source": [
    "so far the data seems to be okay in quality and structure and has no missing data"
   ]
  },
  {
   "cell_type": "markdown",
   "id": "26f5bc0c",
   "metadata": {},
   "source": [
    "### Data Cleaning\n",
    "> **This** is the final step in **Data wrangling** and then we will enter the explore phase , so we will make sure that our data is clean and of correct data types "
   ]
  },
  {
   "cell_type": "code",
   "execution_count": 6,
   "id": "e58b9956",
   "metadata": {},
   "outputs": [],
   "source": [
    "#first we will split the appointment day and scheduled day columns into date and time\n",
    "appointments['AppointmentDay'] = pd.to_datetime(appointments['AppointmentDay'])\n",
    "appointments['ScheduledDay'] = pd.to_datetime(appointments['ScheduledDay'])\n",
    "appointments['AppointmentDay']=appointments['AppointmentDay'].dt.date\n",
    "appointments['Scheduledtime']=appointments['ScheduledDay'].dt.time\n",
    "appointments['ScheduledDay']=appointments['ScheduledDay'].dt.date\n",
    "#now we have three columns for date and time of scheduled and appointments\n",
    "#since the appointment day has zeros in the time stamp it shouldnot be included"
   ]
  },
  {
   "cell_type": "markdown",
   "id": "d113c83f",
   "metadata": {},
   "source": [
    "Now since the time is fixed lets check if there is inconsistencies in the time for example if the schedule date is after the appointment date"
   ]
  },
  {
   "cell_type": "code",
   "execution_count": 7,
   "id": "c7aaa10f",
   "metadata": {},
   "outputs": [
    {
     "data": {
      "text/plain": [
       "(5, 15)"
      ]
     },
     "execution_count": 7,
     "metadata": {},
     "output_type": "execute_result"
    }
   ],
   "source": [
    "#lets find some errors\n",
    "appointments.query(\"ScheduledDay > AppointmentDay\").shape"
   ]
  },
  {
   "cell_type": "markdown",
   "id": "463c9439",
   "metadata": {},
   "source": [
    "we have only 5 rows with wrong data\n"
   ]
  },
  {
   "cell_type": "code",
   "execution_count": 8,
   "id": "fde047a3",
   "metadata": {},
   "outputs": [
    {
     "data": {
      "text/plain": [
       "(1, 15)"
      ]
     },
     "execution_count": 8,
     "metadata": {},
     "output_type": "execute_result"
    }
   ],
   "source": [
    "appointments.query(\"Age < 0\").shape\n"
   ]
  },
  {
   "cell_type": "markdown",
   "id": "8e4bad53",
   "metadata": {},
   "source": [
    "we have only 1 rows with wrong data\n"
   ]
  },
  {
   "cell_type": "code",
   "execution_count": 9,
   "id": "5fcbf25c",
   "metadata": {},
   "outputs": [],
   "source": [
    "index = appointments.query(\"ScheduledDay > AppointmentDay\").index\n",
    "index1 =appointments.query(\"Age < 0\").index\n",
    "droped_index = index.append(index1)\n",
    "appointments.drop(droped_index,inplace = True)\n",
    "\n",
    "#converting the appintments into \n",
    "appointments['No_show']= appointments['No-show'].map({'No':False,'Yes': True})\n",
    "appointments.drop(['No-show'],axis = 1,inplace = True)"
   ]
  },
  {
   "cell_type": "code",
   "execution_count": 10,
   "id": "d697762a",
   "metadata": {},
   "outputs": [],
   "source": [
    "#converting age column into age groups for better visualizing \n",
    "\n",
    "appointments.loc[(appointments.Age < 2),  'AgeGroup'] = 'Infant'\n",
    "appointments.loc[((appointments.Age >2) & (appointments.Age<= 4)),  'AgeGroup'] = 'Toddler'\n",
    "appointments.loc[((appointments.Age >4) & (appointments.Age <= 13)),  'AgeGroup'] = 'Kid'\n",
    "appointments.loc[((appointments.Age >13) & (appointments.Age <= 21)),  'AgeGroup'] = 'Teen'\n",
    "appointments.loc[((appointments.Age >21) & (appointments.Age <= 50)),  'AgeGroup'] = 'Adult'\n",
    "appointments.loc[((appointments.Age >50) & (appointments.Age <= 116)),  'AgeGroup'] = 'senior'"
   ]
  },
  {
   "cell_type": "code",
   "execution_count": 11,
   "id": "ae63a221",
   "metadata": {},
   "outputs": [
    {
     "data": {
      "text/html": [
       "<div>\n",
       "<style scoped>\n",
       "    .dataframe tbody tr th:only-of-type {\n",
       "        vertical-align: middle;\n",
       "    }\n",
       "\n",
       "    .dataframe tbody tr th {\n",
       "        vertical-align: top;\n",
       "    }\n",
       "\n",
       "    .dataframe thead th {\n",
       "        text-align: right;\n",
       "    }\n",
       "</style>\n",
       "<table border=\"1\" class=\"dataframe\">\n",
       "  <thead>\n",
       "    <tr style=\"text-align: right;\">\n",
       "      <th></th>\n",
       "      <th>PatientId</th>\n",
       "      <th>AppointmentID</th>\n",
       "      <th>Gender</th>\n",
       "      <th>ScheduledDay</th>\n",
       "      <th>AppointmentDay</th>\n",
       "      <th>Age</th>\n",
       "      <th>Neighbourhood</th>\n",
       "      <th>Scholarship</th>\n",
       "      <th>Hipertension</th>\n",
       "      <th>Diabetes</th>\n",
       "      <th>Alcoholism</th>\n",
       "      <th>Handcap</th>\n",
       "      <th>SMS_received</th>\n",
       "      <th>Scheduledtime</th>\n",
       "      <th>No_show</th>\n",
       "      <th>AgeGroup</th>\n",
       "    </tr>\n",
       "  </thead>\n",
       "  <tbody>\n",
       "    <tr>\n",
       "      <th>0</th>\n",
       "      <td>2.987250e+13</td>\n",
       "      <td>5642903</td>\n",
       "      <td>F</td>\n",
       "      <td>2016-04-29</td>\n",
       "      <td>2016-04-29</td>\n",
       "      <td>62</td>\n",
       "      <td>JARDIM DA PENHA</td>\n",
       "      <td>0</td>\n",
       "      <td>1</td>\n",
       "      <td>0</td>\n",
       "      <td>0</td>\n",
       "      <td>0</td>\n",
       "      <td>0</td>\n",
       "      <td>18:38:08</td>\n",
       "      <td>False</td>\n",
       "      <td>senior</td>\n",
       "    </tr>\n",
       "    <tr>\n",
       "      <th>1</th>\n",
       "      <td>5.589980e+14</td>\n",
       "      <td>5642503</td>\n",
       "      <td>M</td>\n",
       "      <td>2016-04-29</td>\n",
       "      <td>2016-04-29</td>\n",
       "      <td>56</td>\n",
       "      <td>JARDIM DA PENHA</td>\n",
       "      <td>0</td>\n",
       "      <td>0</td>\n",
       "      <td>0</td>\n",
       "      <td>0</td>\n",
       "      <td>0</td>\n",
       "      <td>0</td>\n",
       "      <td>16:08:27</td>\n",
       "      <td>False</td>\n",
       "      <td>senior</td>\n",
       "    </tr>\n",
       "    <tr>\n",
       "      <th>2</th>\n",
       "      <td>4.262960e+12</td>\n",
       "      <td>5642549</td>\n",
       "      <td>F</td>\n",
       "      <td>2016-04-29</td>\n",
       "      <td>2016-04-29</td>\n",
       "      <td>62</td>\n",
       "      <td>MATA DA PRAIA</td>\n",
       "      <td>0</td>\n",
       "      <td>0</td>\n",
       "      <td>0</td>\n",
       "      <td>0</td>\n",
       "      <td>0</td>\n",
       "      <td>0</td>\n",
       "      <td>16:19:04</td>\n",
       "      <td>False</td>\n",
       "      <td>senior</td>\n",
       "    </tr>\n",
       "    <tr>\n",
       "      <th>3</th>\n",
       "      <td>8.679510e+11</td>\n",
       "      <td>5642828</td>\n",
       "      <td>F</td>\n",
       "      <td>2016-04-29</td>\n",
       "      <td>2016-04-29</td>\n",
       "      <td>8</td>\n",
       "      <td>PONTAL DE CAMBURI</td>\n",
       "      <td>0</td>\n",
       "      <td>0</td>\n",
       "      <td>0</td>\n",
       "      <td>0</td>\n",
       "      <td>0</td>\n",
       "      <td>0</td>\n",
       "      <td>17:29:31</td>\n",
       "      <td>False</td>\n",
       "      <td>Kid</td>\n",
       "    </tr>\n",
       "    <tr>\n",
       "      <th>4</th>\n",
       "      <td>8.841190e+12</td>\n",
       "      <td>5642494</td>\n",
       "      <td>F</td>\n",
       "      <td>2016-04-29</td>\n",
       "      <td>2016-04-29</td>\n",
       "      <td>56</td>\n",
       "      <td>JARDIM DA PENHA</td>\n",
       "      <td>0</td>\n",
       "      <td>1</td>\n",
       "      <td>1</td>\n",
       "      <td>0</td>\n",
       "      <td>0</td>\n",
       "      <td>0</td>\n",
       "      <td>16:07:23</td>\n",
       "      <td>False</td>\n",
       "      <td>senior</td>\n",
       "    </tr>\n",
       "  </tbody>\n",
       "</table>\n",
       "</div>"
      ],
      "text/plain": [
       "      PatientId  AppointmentID Gender ScheduledDay AppointmentDay  Age  \\\n",
       "0  2.987250e+13        5642903      F   2016-04-29     2016-04-29   62   \n",
       "1  5.589980e+14        5642503      M   2016-04-29     2016-04-29   56   \n",
       "2  4.262960e+12        5642549      F   2016-04-29     2016-04-29   62   \n",
       "3  8.679510e+11        5642828      F   2016-04-29     2016-04-29    8   \n",
       "4  8.841190e+12        5642494      F   2016-04-29     2016-04-29   56   \n",
       "\n",
       "       Neighbourhood  Scholarship  Hipertension  Diabetes  Alcoholism  \\\n",
       "0    JARDIM DA PENHA            0             1         0           0   \n",
       "1    JARDIM DA PENHA            0             0         0           0   \n",
       "2      MATA DA PRAIA            0             0         0           0   \n",
       "3  PONTAL DE CAMBURI            0             0         0           0   \n",
       "4    JARDIM DA PENHA            0             1         1           0   \n",
       "\n",
       "   Handcap  SMS_received Scheduledtime  No_show AgeGroup  \n",
       "0        0             0      18:38:08    False   senior  \n",
       "1        0             0      16:08:27    False   senior  \n",
       "2        0             0      16:19:04    False   senior  \n",
       "3        0             0      17:29:31    False      Kid  \n",
       "4        0             0      16:07:23    False   senior  "
      ]
     },
     "execution_count": 11,
     "metadata": {},
     "output_type": "execute_result"
    }
   ],
   "source": [
    "appointments.head()"
   ]
  },
  {
   "cell_type": "code",
   "execution_count": 12,
   "id": "f5c166ce",
   "metadata": {},
   "outputs": [
    {
     "data": {
      "text/plain": [
       "PatientId         float64\n",
       "AppointmentID       int64\n",
       "Gender             object\n",
       "ScheduledDay       object\n",
       "AppointmentDay     object\n",
       "Age                 int64\n",
       "Neighbourhood      object\n",
       "Scholarship         int64\n",
       "Hipertension        int64\n",
       "Diabetes            int64\n",
       "Alcoholism          int64\n",
       "Handcap             int64\n",
       "SMS_received        int64\n",
       "Scheduledtime      object\n",
       "No_show              bool\n",
       "AgeGroup           object\n",
       "dtype: object"
      ]
     },
     "execution_count": 12,
     "metadata": {},
     "output_type": "execute_result"
    }
   ],
   "source": [
    "appointments.dtypes"
   ]
  },
  {
   "cell_type": "markdown",
   "id": "7f1b97ae",
   "metadata": {},
   "source": [
    "Now our data is ready for the next phase of investigation, EDA"
   ]
  },
  {
   "cell_type": "markdown",
   "id": "c1eff4a4",
   "metadata": {},
   "source": [
    "<a id='eda'></a>\n",
    "## Exploratory Data Analysis\n",
    "\n",
    "\n",
    "### First we will visualize the data to try and find patterns so it could help us with the analysis"
   ]
  },
  {
   "cell_type": "markdown",
   "id": "6c87769d",
   "metadata": {},
   "source": [
    "First we will try and see the Correlation between missing the appointment and the rest of the data"
   ]
  },
  {
   "cell_type": "code",
   "execution_count": 13,
   "id": "64631672",
   "metadata": {},
   "outputs": [
    {
     "data": {
      "text/html": [
       "<div>\n",
       "<style scoped>\n",
       "    .dataframe tbody tr th:only-of-type {\n",
       "        vertical-align: middle;\n",
       "    }\n",
       "\n",
       "    .dataframe tbody tr th {\n",
       "        vertical-align: top;\n",
       "    }\n",
       "\n",
       "    .dataframe thead th {\n",
       "        text-align: right;\n",
       "    }\n",
       "</style>\n",
       "<table border=\"1\" class=\"dataframe\">\n",
       "  <thead>\n",
       "    <tr style=\"text-align: right;\">\n",
       "      <th></th>\n",
       "      <th>PatientId</th>\n",
       "      <th>AppointmentID</th>\n",
       "      <th>Age</th>\n",
       "      <th>Scholarship</th>\n",
       "      <th>Hipertension</th>\n",
       "      <th>Diabetes</th>\n",
       "      <th>Alcoholism</th>\n",
       "      <th>Handcap</th>\n",
       "      <th>SMS_received</th>\n",
       "      <th>No_show</th>\n",
       "    </tr>\n",
       "  </thead>\n",
       "  <tbody>\n",
       "    <tr>\n",
       "      <th>PatientId</th>\n",
       "      <td>1.000000</td>\n",
       "      <td>0.004019</td>\n",
       "      <td>-0.004192</td>\n",
       "      <td>-0.002873</td>\n",
       "      <td>-0.006431</td>\n",
       "      <td>0.001612</td>\n",
       "      <td>0.011016</td>\n",
       "      <td>-0.007855</td>\n",
       "      <td>-0.009735</td>\n",
       "      <td>-0.001477</td>\n",
       "    </tr>\n",
       "    <tr>\n",
       "      <th>AppointmentID</th>\n",
       "      <td>0.004019</td>\n",
       "      <td>1.000000</td>\n",
       "      <td>-0.019109</td>\n",
       "      <td>0.022620</td>\n",
       "      <td>0.012760</td>\n",
       "      <td>0.022633</td>\n",
       "      <td>0.032947</td>\n",
       "      <td>0.014077</td>\n",
       "      <td>-0.256614</td>\n",
       "      <td>-0.162619</td>\n",
       "    </tr>\n",
       "    <tr>\n",
       "      <th>Age</th>\n",
       "      <td>-0.004192</td>\n",
       "      <td>-0.019109</td>\n",
       "      <td>1.000000</td>\n",
       "      <td>-0.092469</td>\n",
       "      <td>0.504599</td>\n",
       "      <td>0.292398</td>\n",
       "      <td>0.095811</td>\n",
       "      <td>0.078101</td>\n",
       "      <td>0.012629</td>\n",
       "      <td>-0.060320</td>\n",
       "    </tr>\n",
       "    <tr>\n",
       "      <th>Scholarship</th>\n",
       "      <td>-0.002873</td>\n",
       "      <td>0.022620</td>\n",
       "      <td>-0.092469</td>\n",
       "      <td>1.000000</td>\n",
       "      <td>-0.019738</td>\n",
       "      <td>-0.024899</td>\n",
       "      <td>0.035019</td>\n",
       "      <td>-0.008555</td>\n",
       "      <td>0.001182</td>\n",
       "      <td>0.029166</td>\n",
       "    </tr>\n",
       "    <tr>\n",
       "      <th>Hipertension</th>\n",
       "      <td>-0.006431</td>\n",
       "      <td>0.012760</td>\n",
       "      <td>0.504599</td>\n",
       "      <td>-0.019738</td>\n",
       "      <td>1.000000</td>\n",
       "      <td>0.433082</td>\n",
       "      <td>0.087967</td>\n",
       "      <td>0.080162</td>\n",
       "      <td>-0.006285</td>\n",
       "      <td>-0.035662</td>\n",
       "    </tr>\n",
       "    <tr>\n",
       "      <th>Diabetes</th>\n",
       "      <td>0.001612</td>\n",
       "      <td>0.022633</td>\n",
       "      <td>0.292398</td>\n",
       "      <td>-0.024899</td>\n",
       "      <td>0.433082</td>\n",
       "      <td>1.000000</td>\n",
       "      <td>0.018471</td>\n",
       "      <td>0.057578</td>\n",
       "      <td>-0.014561</td>\n",
       "      <td>-0.015158</td>\n",
       "    </tr>\n",
       "    <tr>\n",
       "      <th>Alcoholism</th>\n",
       "      <td>0.011016</td>\n",
       "      <td>0.032947</td>\n",
       "      <td>0.095811</td>\n",
       "      <td>0.035019</td>\n",
       "      <td>0.087967</td>\n",
       "      <td>0.018471</td>\n",
       "      <td>1.000000</td>\n",
       "      <td>0.004668</td>\n",
       "      <td>-0.026154</td>\n",
       "      <td>-0.000181</td>\n",
       "    </tr>\n",
       "    <tr>\n",
       "      <th>Handcap</th>\n",
       "      <td>-0.007855</td>\n",
       "      <td>0.014077</td>\n",
       "      <td>0.078101</td>\n",
       "      <td>-0.008555</td>\n",
       "      <td>0.080162</td>\n",
       "      <td>0.057578</td>\n",
       "      <td>0.004668</td>\n",
       "      <td>1.000000</td>\n",
       "      <td>-0.024097</td>\n",
       "      <td>-0.006290</td>\n",
       "    </tr>\n",
       "    <tr>\n",
       "      <th>SMS_received</th>\n",
       "      <td>-0.009735</td>\n",
       "      <td>-0.256614</td>\n",
       "      <td>0.012629</td>\n",
       "      <td>0.001182</td>\n",
       "      <td>-0.006285</td>\n",
       "      <td>-0.014561</td>\n",
       "      <td>-0.026154</td>\n",
       "      <td>-0.024097</td>\n",
       "      <td>1.000000</td>\n",
       "      <td>0.126502</td>\n",
       "    </tr>\n",
       "    <tr>\n",
       "      <th>No_show</th>\n",
       "      <td>-0.001477</td>\n",
       "      <td>-0.162619</td>\n",
       "      <td>-0.060320</td>\n",
       "      <td>0.029166</td>\n",
       "      <td>-0.035662</td>\n",
       "      <td>-0.015158</td>\n",
       "      <td>-0.000181</td>\n",
       "      <td>-0.006290</td>\n",
       "      <td>0.126502</td>\n",
       "      <td>1.000000</td>\n",
       "    </tr>\n",
       "  </tbody>\n",
       "</table>\n",
       "</div>"
      ],
      "text/plain": [
       "               PatientId  AppointmentID       Age  Scholarship  Hipertension  \\\n",
       "PatientId       1.000000       0.004019 -0.004192    -0.002873     -0.006431   \n",
       "AppointmentID   0.004019       1.000000 -0.019109     0.022620      0.012760   \n",
       "Age            -0.004192      -0.019109  1.000000    -0.092469      0.504599   \n",
       "Scholarship    -0.002873       0.022620 -0.092469     1.000000     -0.019738   \n",
       "Hipertension   -0.006431       0.012760  0.504599    -0.019738      1.000000   \n",
       "Diabetes        0.001612       0.022633  0.292398    -0.024899      0.433082   \n",
       "Alcoholism      0.011016       0.032947  0.095811     0.035019      0.087967   \n",
       "Handcap        -0.007855       0.014077  0.078101    -0.008555      0.080162   \n",
       "SMS_received   -0.009735      -0.256614  0.012629     0.001182     -0.006285   \n",
       "No_show        -0.001477      -0.162619 -0.060320     0.029166     -0.035662   \n",
       "\n",
       "               Diabetes  Alcoholism   Handcap  SMS_received   No_show  \n",
       "PatientId      0.001612    0.011016 -0.007855     -0.009735 -0.001477  \n",
       "AppointmentID  0.022633    0.032947  0.014077     -0.256614 -0.162619  \n",
       "Age            0.292398    0.095811  0.078101      0.012629 -0.060320  \n",
       "Scholarship   -0.024899    0.035019 -0.008555      0.001182  0.029166  \n",
       "Hipertension   0.433082    0.087967  0.080162     -0.006285 -0.035662  \n",
       "Diabetes       1.000000    0.018471  0.057578     -0.014561 -0.015158  \n",
       "Alcoholism     0.018471    1.000000  0.004668     -0.026154 -0.000181  \n",
       "Handcap        0.057578    0.004668  1.000000     -0.024097 -0.006290  \n",
       "SMS_received  -0.014561   -0.026154 -0.024097      1.000000  0.126502  \n",
       "No_show       -0.015158   -0.000181 -0.006290      0.126502  1.000000  "
      ]
     },
     "execution_count": 13,
     "metadata": {},
     "output_type": "execute_result"
    }
   ],
   "source": [
    "appointments.corr()"
   ]
  },
  {
   "cell_type": "markdown",
   "id": "7359e5a4",
   "metadata": {},
   "source": [
    "We found that there is no relation between our target and our attributes . however, correlation only happen when there is a linear relationship so let us examine further "
   ]
  },
  {
   "cell_type": "code",
   "execution_count": 14,
   "id": "2b4cda71",
   "metadata": {},
   "outputs": [],
   "source": [
    "#lets seprate the data by showing for the appointments\n",
    "yes_data = appointments[appointments.No_show==False]#who attended the appointment\n",
    "no_data = appointments[appointments.No_show==True]#who skipped the appointment\n",
    "combined_data = [no_data,yes_data]"
   ]
  },
  {
   "cell_type": "markdown",
   "id": "21c1b6fa",
   "metadata": {},
   "source": [
    "**Univariate analysis**\n",
    "\n",
    "we will examine how each categorical attribute affect the showing up to the appointment \n",
    "\n",
    "we have decided to split our attributes into two parts in order to avoid overwhelming the viewer with a lot of data visualization at once\n"
   ]
  },
  {
   "cell_type": "code",
   "execution_count": 15,
   "id": "1c4067db",
   "metadata": {},
   "outputs": [
    {
     "data": {
      "image/png": "[encoded data removed]",
      "text/plain": [
       "<Figure size 1080x1440 with 8 Axes>"
      ]
     },
     "metadata": {
      "needs_background": "light"
     },
     "output_type": "display_data"
    }
   ],
   "source": [
    "#we will start by scholarship, Hipertension, Diabetes and Alcholism\n",
    "attributes =['Scholarship','Hipertension','Diabetes','Alcoholism']\n",
    "plot_relations(attributes,combined_data)"
   ]
  },
  {
   "cell_type": "markdown",
   "id": "cf5b84d4",
   "metadata": {},
   "source": [
    "**From these four plots we learn that :** \n",
    "Having scholarship, Hipertension, Diabetes or Alcholism will not affect whether a patient will attend or skip the appointment"
   ]
  },
  {
   "cell_type": "code",
   "execution_count": 23,
   "id": "ea8afa32",
   "metadata": {},
   "outputs": [
    {
     "data": {
      "image/png": "[encoded data removed]",
      "text/plain": [
       "<Figure size 1080x1440 with 6 Axes>"
      ]
     },
     "metadata": {
      "needs_background": "light"
     },
     "output_type": "display_data"
    }
   ],
   "source": [
    "#next we will examine Handcap, SMS_recieved and Gender\n",
    "attributes=['Handcap','SMS_received','Gender']\n",
    "plot_relations(attributes,combined_data)"
   ]
  },
  {
   "cell_type": "markdown",
   "id": "9ee77680",
   "metadata": {},
   "source": [
    "**From these three plots we learn that :** \n",
    "Having a handicap or being a male or a female does not affect whether a patient will attend or skip the appointment but SMS messeages seem to have an effect we can obviously see that nearly 43% of patients who missed their appointments recieved an SMS comparing to 30% of patients who attended the appointment, this actully is predictable since their was a small corrleation betwwen the SMS and patients missing their appointments "
   ]
  },
  {
   "cell_type": "code",
   "execution_count": 26,
   "id": "34ab6e1d",
   "metadata": {},
   "outputs": [
    {
     "name": "stderr",
     "output_type": "stream",
     "text": [
      "C:\\Users\\fahda\\AppData\\Local\\Temp\\ipykernel_1776\\2101925663.py:3: SettingWithCopyWarning: \n",
      "A value is trying to be set on a copy of a slice from a DataFrame\n",
      "\n",
      "See the caveats in the documentation: https://pandas.pydata.org/pandas-docs/stable/user_guide/indexing.html#returning-a-view-versus-a-copy\n",
      "  yes_data.sort_values(by='AgeGroup', ascending=False,inplace = True)\n",
      "C:\\Users\\fahda\\AppData\\Local\\Temp\\ipykernel_1776\\2101925663.py:4: SettingWithCopyWarning: \n",
      "A value is trying to be set on a copy of a slice from a DataFrame\n",
      "\n",
      "See the caveats in the documentation: https://pandas.pydata.org/pandas-docs/stable/user_guide/indexing.html#returning-a-view-versus-a-copy\n",
      "  no_data.sort_values(by='AgeGroup', ascending=False,inplace = True)\n"
     ]
    },
    {
     "data": {
      "image/png": "[encoded data removed]",
      "text/plain": [
       "<Figure size 720x360 with 2 Axes>"
      ]
     },
     "metadata": {
      "needs_background": "light"
     },
     "output_type": "display_data"
    }
   ],
   "source": [
    "#finally our age group \n",
    "fig, axes = plt.subplots(nrows=1, ncols=2, figsize=(10, 5))\n",
    "yes_data.sort_values(by='AgeGroup', ascending=False,inplace = True)\n",
    "no_data.sort_values(by='AgeGroup', ascending=False,inplace = True)\n",
    "\n",
    "sns.countplot(x='AgeGroup',data = no_data,ax=axes[0])\n",
    "axes[0].title.set_text('Age group for people who missed appoinment')\n",
    "axes[0].set_ylabel('COUNT')\n",
    "axes[0].set_xlabel('Age_group')\n",
    "sns.countplot(x='AgeGroup',data = yes_data,ax=axes[1])\n",
    "axes[1].title.set_text('Age group for people who attended appoinment')\n",
    "axes[1].set_ylabel('COUNT')\n",
    "axes[1].set_xlabel('Age_group')\n",
    "plt.subplots_adjust(left=0.1,bottom=0.1, right=0.9, top=0.9, wspace=0.4, hspace=0.4)\n"
   ]
  },
  {
   "cell_type": "markdown",
   "id": "f2c6877b",
   "metadata": {},
   "source": [
    "we can see that seniors have a less chance of skipping the appointments while teens tend slightly to skip their appointments"
   ]
  },
  {
   "cell_type": "markdown",
   "id": "d20e6fd7",
   "metadata": {},
   "source": [
    "### Why would a patient schedule an appointment and miss it ?\n",
    "\n",
    "\n"
   ]
  },
  {
   "cell_type": "code",
   "execution_count": 25,
   "id": "8d95d4f1",
   "metadata": {},
   "outputs": [
    {
     "data": {
      "image/png": "[encoded data removed]",
      "text/plain": [
       "<Figure size 720x360 with 2 Axes>"
      ]
     },
     "metadata": {
      "needs_background": "light"
     },
     "output_type": "display_data"
    }
   ],
   "source": [
    "fig, axes = plt.subplots(nrows=1, ncols=2, figsize=(10, 5))\n",
    "sns.countplot(x='AgeGroup',data =no_data,hue ='SMS_received',ax = axes[0])\n",
    "axes[0].title.set_text('diffrent Age groups who missed appoinment')\n",
    "axes[0].set_ylabel('COUNT')\n",
    "axes[0].set_xlabel('Age_group')\n",
    "sns.countplot(x='AgeGroup',data =yes_data,hue ='SMS_received',ax = axes[1])\n",
    "axes[1].title.set_text('diffrent Age groups who attended appoinment')\n",
    "axes[1].set_ylabel('COUNT')\n",
    "axes[1].set_xlabel('Age_group')\n",
    "plt.subplots_adjust(left=0.1,bottom=0.1, right=0.9, top=0.9, wspace=0.4, hspace=0.4)\n"
   ]
  },
  {
   "cell_type": "markdown",
   "id": "a5493bc3",
   "metadata": {},
   "source": [
    "we notice that in case of missed appointments patients get sms reminders, and in case of adult patient there is a 50% increase in the amount of sent texts, that drives us to a **conclusion** and maybe the answer to our first quenstion, **patients intentionaly skipped the appointment** maybe because they felt better we might need more data to verify this"
   ]
  },
  {
   "cell_type": "markdown",
   "id": "de684c16",
   "metadata": {},
   "source": [
    "### Did the patient had a liabilty that pervented him from coming ?"
   ]
  },
  {
   "cell_type": "code",
   "execution_count": 19,
   "id": "f419d73c",
   "metadata": {},
   "outputs": [
    {
     "data": {
      "image/png": "[encoded data removed]",
      "text/plain": [
       "<Figure size 720x360 with 2 Axes>"
      ]
     },
     "metadata": {
      "needs_background": "light"
     },
     "output_type": "display_data"
    }
   ],
   "source": [
    "fig, axes = plt.subplots(nrows=1, ncols=2, figsize=(10, 5))\n",
    "axes[0].hist('Handcap',data = no_data )\n",
    "axes[0].title.set_text('Handcap for people who missed appointment')\n",
    "axes[0].set_ylabel('COUNT')\n",
    "axes[0].set_xlabel('Handcap')\n",
    "axes[1].hist('Handcap',data = yes_data)\n",
    "axes[1].title.set_text('Handcap for people who attended appoinment')\n",
    "axes[1].set_ylabel('COUNT')\n",
    "axes[1].set_xlabel('Handcap')\n",
    "\n",
    "plt.subplots_adjust(left=0.1,bottom=0.1, right=0.9, top=0.9, wspace=0.4, hspace=0.4)\n"
   ]
  },
  {
   "cell_type": "markdown",
   "id": "5de5ca2c",
   "metadata": {},
   "source": [
    "As we can see there beeing a handicap does not infulence a patient to skip his/her appointments the same result we get with Hipertension, Diabetes and Alcoholism,there is no indications that having a liability will make you tend to skip your appointments "
   ]
  },
  {
   "cell_type": "markdown",
   "id": "16b47894",
   "metadata": {},
   "source": [
    "### What age group miss the appointment most ?"
   ]
  },
  {
   "cell_type": "code",
   "execution_count": 20,
   "id": "f23356b1",
   "metadata": {},
   "outputs": [
    {
     "name": "stderr",
     "output_type": "stream",
     "text": [
      "C:\\Users\\fahda\\AppData\\Local\\Temp\\ipykernel_1776\\1780803149.py:2: SettingWithCopyWarning: \n",
      "A value is trying to be set on a copy of a slice from a DataFrame\n",
      "\n",
      "See the caveats in the documentation: https://pandas.pydata.org/pandas-docs/stable/user_guide/indexing.html#returning-a-view-versus-a-copy\n",
      "  yes_data.sort_values(by='AgeGroup', ascending=False,inplace = True)\n",
      "C:\\Users\\fahda\\AppData\\Local\\Temp\\ipykernel_1776\\1780803149.py:3: SettingWithCopyWarning: \n",
      "A value is trying to be set on a copy of a slice from a DataFrame\n",
      "\n",
      "See the caveats in the documentation: https://pandas.pydata.org/pandas-docs/stable/user_guide/indexing.html#returning-a-view-versus-a-copy\n",
      "  no_data.sort_values(by='AgeGroup', ascending=False,inplace = True)\n"
     ]
    },
    {
     "data": {
      "image/png": "[encoded data removed]",
      "text/plain": [
       "<Figure size 720x360 with 2 Axes>"
      ]
     },
     "metadata": {
      "needs_background": "light"
     },
     "output_type": "display_data"
    }
   ],
   "source": [
    "fig, axes = plt.subplots(nrows=1, ncols=2, figsize=(10, 5))\n",
    "yes_data.sort_values(by='AgeGroup', ascending=False,inplace = True)\n",
    "no_data.sort_values(by='AgeGroup', ascending=False,inplace = True)\n",
    "\n",
    "sns.countplot(x='AgeGroup',data = no_data,ax=axes[0])\n",
    "axes[0].title.set_text('Age group for people who missed appoinment')\n",
    "axes[0].set_ylabel('COUNT')\n",
    "axes[0].set_xlabel('Age_group')\n",
    "sns.countplot(x='AgeGroup',data = yes_data,ax=axes[1])\n",
    "axes[1].title.set_text('Age group for people who attended appoinment')\n",
    "axes[1].set_ylabel('COUNT')\n",
    "axes[1].set_xlabel('Age_group')\n",
    "plt.subplots_adjust(left=0.1,bottom=0.1, right=0.9, top=0.9, wspace=0.4, hspace=0.4)\n"
   ]
  },
  {
   "cell_type": "markdown",
   "id": "9f8feb11",
   "metadata": {},
   "source": [
    "Adults are the most to miss their appointments but this is due to their high number in the data, comparing ratios and we see that seniors are more serious about attending their appointments while the teen group tend to skip their appointments more so that makes **Teens age group miss their appointments the most**"
   ]
  },
  {
   "cell_type": "markdown",
   "id": "3db65055",
   "metadata": {},
   "source": [
    "<a id='conclusions'></a>\n",
    "## Conclusions"
   ]
  },
  {
   "cell_type": "markdown",
   "id": "a304c849",
   "metadata": {},
   "source": [
    "So wo sum up, teens are the most group with appointments missed and that is a confirmation to a previous question in which we found that having a liability of some sort does not affect your decision to skip the meeting since most of teens are still in good shape, also we found out that skipping an appointment is the patient decision"
   ]
  },
  {
   "cell_type": "markdown",
   "id": "c0317e24",
   "metadata": {},
   "source": [
    "## Limitations\n"
   ]
  },
  {
   "cell_type": "markdown",
   "id": "03a67be9",
   "metadata": {},
   "source": [
    "So far we know that skipping an appointment is the patient decision but we do not know what is driving this decision or what is the main reason that a patient decided not to go to the appointment, did he/she feel better and thought that this will be a waste of money?, did he/she had an emergency that day?, did he/she has a close friend who had the same symptoms and described their medicine for them?, what ever is the reason we simply do not have enough data to know it."
   ]
  }
 ],
 "metadata": {
  "kernelspec": {
   "display_name": "Python 3 (ipykernel)",
   "language": "python",
   "name": "python3"
  },
  "language_info": {
   "codemirror_mode": {
    "name": "ipython",
    "version": 3
   },
   "file_extension": ".py",
   "mimetype": "text/x-python",
   "name": "python",
   "nbconvert_exporter": "python",
   "pygments_lexer": "ipython3",
   "version": "3.9.7"
  }
 },
 "nbformat": 4,
 "nbformat_minor": 5
}
